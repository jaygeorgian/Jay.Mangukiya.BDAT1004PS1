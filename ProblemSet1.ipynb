{
  "nbformat": 4,
  "nbformat_minor": 0,
  "metadata": {
    "colab": {
      "provenance": []
    },
    "kernelspec": {
      "name": "python3",
      "display_name": "Python 3"
    },
    "language_info": {
      "name": "python"
    }
  },
  "cells": [
    {
      "cell_type": "markdown",
      "source": [
        "**Question 1**"
      ],
      "metadata": {
        "id": "pVnezXh6_0XX"
      }
    },
    {
      "cell_type": "code",
      "source": [
        "from math import pi\n",
        "\n",
        "print(type(5))\n",
        "print(type(5.0))\n",
        "print(type(5 > 1))\n",
        "print(type('5'))\n",
        "print(type(5 * 2))\n",
        "print(type('5' * 2))\n",
        "print(type('5' + '2'))\n",
        "print(type(5 / 2))\n",
        "print(type(5 % 2))\n",
        "print(type({5, 2, 1}))\n",
        "print(type(5 == 3))\n",
        "print(type(pi*4))"
      ],
      "metadata": {
        "colab": {
          "base_uri": "https://localhost:8080/"
        },
        "id": "uCuMVmA9_x4A",
        "outputId": "59b314b3-9a51-4d08-908a-eca2b21f3673"
      },
      "execution_count": null,
      "outputs": [
        {
          "output_type": "stream",
          "name": "stdout",
          "text": [
            "<class 'int'>\n",
            "<class 'float'>\n",
            "<class 'bool'>\n",
            "<class 'str'>\n",
            "<class 'int'>\n",
            "<class 'str'>\n",
            "<class 'str'>\n",
            "<class 'float'>\n",
            "<class 'int'>\n",
            "<class 'set'>\n",
            "<class 'bool'>\n",
            "<class 'float'>\n"
          ]
        }
      ]
    },
    {
      "cell_type": "markdown",
      "source": [
        "**Question 2**"
      ],
      "metadata": {
        "id": "g5FOaiFtB5JD"
      }
    },
    {
      "cell_type": "markdown",
      "source": [
        "**a**"
      ],
      "metadata": {
        "id": "gOyX79nwCvhr"
      }
    },
    {
      "cell_type": "code",
      "source": [
        "string = \"Supercalifragilisticexpialidocious\"\n",
        "\n",
        "count = 0\n",
        "\n",
        "for i in string:\n",
        "  count += 1\n",
        "\n",
        "print(\"Number of letters in the string are {}\".format(count))"
      ],
      "metadata": {
        "id": "g_-biBBpCEY1"
      },
      "execution_count": null,
      "outputs": []
    },
    {
      "cell_type": "markdown",
      "source": [
        "**b**"
      ],
      "metadata": {
        "id": "I_1dkY3qCySH"
      }
    },
    {
      "cell_type": "code",
      "source": [
        "string = \"Supercalifragilisticexpialidocious\"\n",
        "\n",
        "if \"ice\" in string:\n",
        "  print(\"The string contains 'ice'\")\n",
        "else:\n",
        "  print(\"The string does not contain 'ice'\")\n"
      ],
      "metadata": {
        "colab": {
          "base_uri": "https://localhost:8080/"
        },
        "id": "Iskdt0iICm3V",
        "outputId": "275dd4bf-2ff1-41fd-a681-d114d7a0a078"
      },
      "execution_count": null,
      "outputs": [
        {
          "output_type": "stream",
          "name": "stdout",
          "text": [
            "The string contains 'ice'\n"
          ]
        }
      ]
    },
    {
      "cell_type": "markdown",
      "source": [
        "**c**"
      ],
      "metadata": {
        "id": "f74h1G3aFUPZ"
      }
    },
    {
      "cell_type": "code",
      "source": [
        "strings = [\"Supercalifragilisticexpialidocious\",\"Honorificabilitudinitatibus\",\"Bababadalgharaghtakamminarronnkonn\"]\n",
        "str_dict = {}\n",
        "\n",
        "for i in strings:\n",
        "  temp = count\n",
        "  count = 0\n",
        "  for x in i:\n",
        "    count += 1\n",
        "  str_dict[i] = count\n",
        "sorted(str_dict)\n",
        "\n",
        "sorted_dict = sorted(str_dict.items(), key=lambda x:x[1], reverse=True)\n",
        "print(\"The longest word is {}\".format(sorted_dict[0][0]))"
      ],
      "metadata": {
        "colab": {
          "base_uri": "https://localhost:8080/"
        },
        "id": "ZaYf5dLhFV3p",
        "outputId": "8d157bc1-bf4d-414a-9f80-00d412c1f0c3"
      },
      "execution_count": null,
      "outputs": [
        {
          "output_type": "stream",
          "name": "stdout",
          "text": [
            "The longest word is Supercalifragilisticexpialidocious\n"
          ]
        }
      ]
    },
    {
      "cell_type": "markdown",
      "source": [
        "**d**"
      ],
      "metadata": {
        "id": "fdUtPAOaORWC"
      }
    },
    {
      "cell_type": "code",
      "source": [
        "composers = ['Berlioz', 'Borodin', 'Brian', 'Bartok', 'Bellini', 'Buxtehude', 'Bernstein']\n",
        "\n",
        "composers.sort()\n",
        "print(\"First in the dictionary: {}\".format(composers[0]))\n",
        "print(\"Last in the dictionary: {}\".format(composers[-1]))"
      ],
      "metadata": {
        "colab": {
          "base_uri": "https://localhost:8080/"
        },
        "id": "g2fRmRgAOQj_",
        "outputId": "e446278e-b4e2-4c33-e4e5-1420f89f1ce4"
      },
      "execution_count": null,
      "outputs": [
        {
          "output_type": "stream",
          "name": "stdout",
          "text": [
            "First in the dictionary: Bartok\n",
            "Last in the dictionary: Buxtehude\n"
          ]
        }
      ]
    },
    {
      "cell_type": "markdown",
      "source": [
        "**Question 3**"
      ],
      "metadata": {
        "id": "laTmt1b3OyDM"
      }
    },
    {
      "cell_type": "code",
      "source": [
        "from math import sqrt\n",
        "def triangleArea(a,b,c):\n",
        "  s = (a+b+c)/2\n",
        "  area_of_triangle = sqrt(s*((s-a)*(s-b)*(s-c)))\n",
        "  return area_of_triangle\n",
        "\n",
        "print(triangleArea(2,2,2))\n",
        "print(triangleArea(2,3,4))"
      ],
      "metadata": {
        "colab": {
          "base_uri": "https://localhost:8080/"
        },
        "id": "63mDb37iOz3h",
        "outputId": "0c05cd53-8cec-44f8-a897-11e34fdaac6e"
      },
      "execution_count": null,
      "outputs": [
        {
          "output_type": "stream",
          "name": "stdout",
          "text": [
            "1.7320508075688772\n",
            "2.9047375096555625\n"
          ]
        }
      ]
    },
    {
      "cell_type": "markdown",
      "source": [
        "**Question 4**"
      ],
      "metadata": {
        "id": "Jo-xRNhBQJHa"
      }
    },
    {
      "cell_type": "code",
      "source": [
        "from prompt_toolkit.application.application import E\n",
        "numbers = [25,47,42,56,32]\n",
        "odd = []\n",
        "even = []\n",
        "\n",
        "for i in numbers:\n",
        "  if i%2 == 0:\n",
        "    even.append(i)\n",
        "  else:\n",
        "    odd.append(i)\n",
        "\n",
        "print(\"The Even elements are: {}\".format(\" \".join(str(i) for i in even)))\n",
        "print(\"The Odd elements are: {}\".format(\" \".join(str(i) for i in odd)))"
      ],
      "metadata": {
        "colab": {
          "base_uri": "https://localhost:8080/"
        },
        "id": "7KaibOPjQKhP",
        "outputId": "c112888a-24b7-4f94-aff6-db5aa1b3e9ff"
      },
      "execution_count": null,
      "outputs": [
        {
          "output_type": "stream",
          "name": "stdout",
          "text": [
            "The Even elements are: 42 56 32\n",
            "The Odd elements are: 25 47\n"
          ]
        }
      ]
    },
    {
      "cell_type": "markdown",
      "source": [
        "**Question 5**"
      ],
      "metadata": {
        "id": "fVxjBtc-T51D"
      }
    },
    {
      "cell_type": "markdown",
      "source": [
        "**a**"
      ],
      "metadata": {
        "id": "kjKlwfWBUGoP"
      }
    },
    {
      "cell_type": "code",
      "source": [
        "def inside(x,y,x1,y1,x2,y2):\n",
        "\n",
        "  if ((x > x1) and (x < x2)) and ((y > y1) and (y < y2)):\n",
        "    return True\n",
        "  else:\n",
        "    return False\n",
        "\n",
        "print(inside(1,1,0,0,2,3))\n",
        "print(inside(-1,-1,0,0,2,3))"
      ],
      "metadata": {
        "colab": {
          "base_uri": "https://localhost:8080/"
        },
        "id": "aWd_pReiT73t",
        "outputId": "c482bbd8-6e62-4342-80d1-3bbc0c95010d"
      },
      "execution_count": null,
      "outputs": [
        {
          "output_type": "stream",
          "name": "stdout",
          "text": [
            "True\n",
            "False\n"
          ]
        }
      ]
    },
    {
      "cell_type": "markdown",
      "source": [
        "**b**"
      ],
      "metadata": {
        "id": "zf1IgaEXVP4E"
      }
    },
    {
      "cell_type": "code",
      "source": [
        "print(inside(1,1,0.3,0.5,1.1,0.7))\n",
        "print(inside(1,1,0.5,0.2,1.1,2))"
      ],
      "metadata": {
        "colab": {
          "base_uri": "https://localhost:8080/"
        },
        "id": "9e9Z73WLVQ_S",
        "outputId": "92951a6e-2dba-4f68-b6c7-8b1edff42914"
      },
      "execution_count": null,
      "outputs": [
        {
          "output_type": "stream",
          "name": "stdout",
          "text": [
            "False\n",
            "True\n"
          ]
        }
      ]
    },
    {
      "cell_type": "markdown",
      "source": [
        "**Question 6**"
      ],
      "metadata": {
        "id": "aRJ6RDfpWFWh"
      }
    },
    {
      "cell_type": "code",
      "source": [
        "vowels = ['a','e','i','o','u','A','E','I','O','U']\n",
        "\n",
        "def pig(word):\n",
        "\n",
        "  if word[0] in vowels:\n",
        "    return word + \"way\"\n",
        "  else:\n",
        "    new_word = word[1:-1] + word[0] + \"ay\"\n",
        "    return new_word\n",
        "\n",
        "pig('happy')\n",
        "pig('Enter')"
      ],
      "metadata": {
        "colab": {
          "base_uri": "https://localhost:8080/",
          "height": 35
        },
        "id": "889PaMzZWHWi",
        "outputId": "1675704a-8aa6-476a-bd94-0548086fca93"
      },
      "execution_count": null,
      "outputs": [
        {
          "output_type": "execute_result",
          "data": {
            "text/plain": [
              "'Enterway'"
            ],
            "application/vnd.google.colaboratory.intrinsic+json": {
              "type": "string"
            }
          },
          "metadata": {},
          "execution_count": 76
        }
      ]
    },
    {
      "cell_type": "markdown",
      "source": [
        "**Question 7**"
      ],
      "metadata": {
        "id": "cHK3-_qhw9jl"
      }
    },
    {
      "cell_type": "code",
      "source": [
        "from google.colab import drive\n",
        "drive.mount('/content/drive')"
      ],
      "metadata": {
        "colab": {
          "base_uri": "https://localhost:8080/"
        },
        "id": "mGx3x3sTzYdS",
        "outputId": "c36df48b-123d-4eb7-d0f3-93fb679c14d6"
      },
      "execution_count": null,
      "outputs": [
        {
          "output_type": "stream",
          "name": "stdout",
          "text": [
            "Mounted at /content/drive\n"
          ]
        }
      ]
    },
    {
      "cell_type": "code",
      "source": [
        "def bldcount(filename):\n",
        "\n",
        "  f = open(filename, \"r\")\n",
        "  for x in f:\n",
        "    print(x)\n",
        "\n",
        "  blood_count_list = x.split(\" \")\n",
        "  print(blood_count_list)\n",
        "\n",
        "  count_dict = {'A':0, 'B':0, 'AB':0, 'O':0, 'OO':0}\n",
        "  for i in blood_count_list:\n",
        "    if i == 'A':\n",
        "      count_dict['A'] += 1\n",
        "    elif i == 'B':\n",
        "      count_dict['B'] += 1\n",
        "    elif i == 'AB':\n",
        "      count_dict['AB'] += 1\n",
        "    elif i == 'O':\n",
        "      count_dict['O'] += 1\n",
        "    elif i == 'OO':\n",
        "      count_dict['OO'] += 1\n",
        "\n",
        "  blood_types = ['A','B','AB','O','OO']\n",
        "  for i in blood_types:\n",
        "    print(\"Number of patients having blood group {}: {}\".format(i,count_dict[i]))\n"
      ],
      "metadata": {
        "id": "vkqsAbx2xD0_"
      },
      "execution_count": null,
      "outputs": []
    },
    {
      "cell_type": "code",
      "source": [
        "bldcount('/content/drive/MyDrive/Data Programming/Problem Set 1/DataSet/bloodtype1.txt')"
      ],
      "metadata": {
        "colab": {
          "base_uri": "https://localhost:8080/"
        },
        "id": "JoVWO5xwxhOf",
        "outputId": "bad5f5ea-126e-4cf4-b08e-d6f774c9771d"
      },
      "execution_count": null,
      "outputs": [
        {
          "output_type": "stream",
          "name": "stdout",
          "text": [
            "AB AB B O A A AB O AB A O O A A A O O O AB O A A A A A AB AB A AB O AB O A O O O AB O AB AB AB A A O \n",
            "\n",
            "['AB', 'AB', 'B', 'O', 'A', 'A', 'AB', 'O', 'AB', 'A', 'O', 'O', 'A', 'A', 'A', 'O', 'O', 'O', 'AB', 'O', 'A', 'A', 'A', 'A', 'A', 'AB', 'AB', 'A', 'AB', 'O', 'AB', 'O', 'A', 'O', 'O', 'O', 'AB', 'O', 'AB', 'AB', 'AB', 'A', 'A', 'O', '\\n']\n",
            "Number of patients having blood group A: 15\n",
            "Number of patients having blood group B: 1\n",
            "Number of patients having blood group AB: 13\n",
            "Number of patients having blood group O: 15\n",
            "Number of patients having blood group OO: 0\n"
          ]
        }
      ]
    },
    {
      "cell_type": "markdown",
      "source": [
        "**Question 8**"
      ],
      "metadata": {
        "id": "tFIPmlbA3z3U"
      }
    },
    {
      "cell_type": "code",
      "source": [
        "def curconv(currency, amount):\n",
        "\n",
        "  f = open('/content/drive/MyDrive/Data Programming/Problem Set 1/DataSet/currencies.txt', \"r\")\n",
        "  currency_rate_dict = {}\n",
        "  for x in f:\n",
        "    line_splitted = x.split()\n",
        "    currency_rate_dict[line_splitted[0]] = line_splitted[1]\n",
        "\n",
        "  return \"USD \" + str(float(currency_rate_dict[currency]) * amount)"
      ],
      "metadata": {
        "id": "CLjVGMuS33WI"
      },
      "execution_count": null,
      "outputs": []
    },
    {
      "cell_type": "code",
      "source": [
        "print(curconv('AUD',100))\n",
        "print(curconv('INR',100))\n",
        "print(curconv('CNY',100))"
      ],
      "metadata": {
        "colab": {
          "base_uri": "https://localhost:8080/"
        },
        "id": "dpiUVF4s4GAw",
        "outputId": "3d8fdb5d-a7ed-4094-92d3-0285b4ceadcd"
      },
      "execution_count": null,
      "outputs": [
        {
          "output_type": "stream",
          "name": "stdout",
          "text": [
            "USD 103.45157\n",
            "USD 1.77643\n",
            "USD 15.50176\n"
          ]
        }
      ]
    },
    {
      "cell_type": "markdown",
      "source": [
        "**Question 9**"
      ],
      "metadata": {
        "id": "c5PUUeTg7Brl"
      }
    },
    {
      "cell_type": "markdown",
      "source": [
        "Trying to add incompatible variables, as in\n",
        "adding 6 + ‘a’\n",
        "-> TypeError because it tries to add two incompatible variables.\n",
        "\n",
        "Referring to the 12th item of a list that has only 10\n",
        "items\n",
        "-> IndexError because the list only has 10 elements and we are trying to access 12th which does not exists.\n",
        "\n",
        "Using a value that is out of range for a function’s\n",
        "input, such as calling math.sqrt(-1.0)\n",
        "-> ValueError because -1.0 is an invalid input to the function.\n",
        "\n",
        "\n",
        "Using an undeclared variable, such as print(x)\n",
        "when x has not been defined\n",
        "-> NameError because the variable x has not been defined or declared.\n",
        "\n",
        "\n",
        "Trying to open a file that does not exist, such as\n",
        "mistyping the file name or looking in the wrong\n",
        "directory.\n",
        "-> FileNotFoundError because the file does not exist."
      ],
      "metadata": {
        "id": "-G-OjxU371K2"
      }
    },
    {
      "cell_type": "markdown",
      "source": [
        "**Question 10**"
      ],
      "metadata": {
        "id": "gJvu9j34869E"
      }
    },
    {
      "cell_type": "code",
      "source": [
        "def frequencies(string):\n",
        "\n",
        "  letters = 'abcdefghijklmnopqrstuvwxyz'\n",
        "  #print(len(letters))\n",
        "  no_of_letters = [0]*len(letters)\n",
        "  #print(no_of_letters)\n",
        "  for i in string:\n",
        "    if i in letters:\n",
        "      index = letters.index(i)\n",
        "      no_of_letters[index] += 1\n",
        "  return no_of_letters"
      ],
      "metadata": {
        "id": "UWBqPbd489Vb"
      },
      "execution_count": null,
      "outputs": []
    },
    {
      "cell_type": "code",
      "source": [
        "print(frequencies('The quick red fox got bored and went home.'.lower()))\n",
        "print(frequencies('apple'.lower()))"
      ],
      "metadata": {
        "colab": {
          "base_uri": "https://localhost:8080/"
        },
        "id": "CkNdLMx_96jj",
        "outputId": "67a40cf3-dd5c-40b9-e0e8-4b926ec713ad"
      },
      "execution_count": null,
      "outputs": [
        {
          "output_type": "stream",
          "name": "stdout",
          "text": [
            "[1, 1, 1, 3, 5, 1, 1, 2, 1, 0, 1, 0, 1, 2, 4, 0, 1, 2, 0, 3, 1, 0, 1, 1, 0, 0]\n",
            "[1, 0, 0, 0, 1, 0, 0, 0, 0, 0, 0, 1, 0, 0, 0, 2, 0, 0, 0, 0, 0, 0, 0, 0, 0, 0]\n"
          ]
        }
      ]
    }
  ]
}