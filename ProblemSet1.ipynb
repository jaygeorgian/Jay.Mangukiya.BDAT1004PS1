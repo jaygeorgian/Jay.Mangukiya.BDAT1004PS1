{
 "cells": [
  {
   "cell_type": "markdown",
   "metadata": {
    "id": "pVnezXh6_0XX"
   },
   "source": [
    "**Question 1**"
   ]
  },
  {
   "cell_type": "code",
   "execution_count": 1,
   "metadata": {
    "colab": {
     "base_uri": "https://localhost:8080/"
    },
    "id": "uCuMVmA9_x4A",
    "outputId": "59b314b3-9a51-4d08-908a-eca2b21f3673"
   },
   "outputs": [
    {
     "name": "stdout",
     "output_type": "stream",
     "text": [
      "<class 'int'>\n",
      "<class 'float'>\n",
      "<class 'bool'>\n",
      "<class 'str'>\n",
      "<class 'int'>\n",
      "<class 'str'>\n",
      "<class 'str'>\n",
      "<class 'float'>\n",
      "<class 'int'>\n",
      "<class 'set'>\n",
      "<class 'bool'>\n",
      "<class 'float'>\n"
     ]
    }
   ],
   "source": [
    "from math import pi\n",
    "\n",
    "print(type(5))\n",
    "print(type(5.0))\n",
    "print(type(5 > 1))\n",
    "print(type('5'))\n",
    "print(type(5 * 2))\n",
    "print(type('5' * 2))\n",
    "print(type('5' + '2'))\n",
    "print(type(5 / 2))\n",
    "print(type(5 % 2))\n",
    "print(type({5, 2, 1}))\n",
    "print(type(5 == 3))\n",
    "print(type(pi*4))"
   ]
  },
  {
   "cell_type": "markdown",
   "metadata": {
    "id": "g5FOaiFtB5JD"
   },
   "source": [
    "**Question 2**"
   ]
  },
  {
   "cell_type": "markdown",
   "metadata": {
    "id": "gOyX79nwCvhr"
   },
   "source": [
    "**a** How many letters are there in 'Supercalifragilisticexpialidocious'?"
   ]
  },
  {
   "cell_type": "code",
   "execution_count": 2,
   "metadata": {
    "id": "g_-biBBpCEY1"
   },
   "outputs": [
    {
     "name": "stdout",
     "output_type": "stream",
     "text": [
      "Number of letters in the string are 34\n"
     ]
    }
   ],
   "source": [
    "string = \"Supercalifragilisticexpialidocious\"\n",
    "\n",
    "count = 0\n",
    "\n",
    "for i in string:\n",
    "  count += 1\n",
    "\n",
    "print(\"Number of letters in the string are {}\".format(count))"
   ]
  },
  {
   "cell_type": "markdown",
   "metadata": {
    "id": "I_1dkY3qCySH"
   },
   "source": [
    "**b** Does 'Supercalifragilisticexpialidocious' contain 'ice' as a substring? "
   ]
  },
  {
   "cell_type": "code",
   "execution_count": 3,
   "metadata": {
    "colab": {
     "base_uri": "https://localhost:8080/"
    },
    "id": "Iskdt0iICm3V",
    "outputId": "275dd4bf-2ff1-41fd-a681-d114d7a0a078"
   },
   "outputs": [
    {
     "name": "stdout",
     "output_type": "stream",
     "text": [
      "The string contains 'ice'\n"
     ]
    }
   ],
   "source": [
    "string = \"Supercalifragilisticexpialidocious\"\n",
    "\n",
    "if \"ice\" in string:\n",
    "  print(\"The string contains 'ice'\")\n",
    "else:\n",
    "  print(\"The string does not contain 'ice'\")\n"
   ]
  },
  {
   "cell_type": "markdown",
   "metadata": {
    "id": "f74h1G3aFUPZ"
   },
   "source": [
    "**c** Which of the following words is the longest: Supercalifragilisticexpialidocious, Honorificabilitudinitatibus, or Bababadalgharaghtakamminarronnkonn? "
   ]
  },
  {
   "cell_type": "code",
   "execution_count": 4,
   "metadata": {
    "colab": {
     "base_uri": "https://localhost:8080/"
    },
    "id": "ZaYf5dLhFV3p",
    "outputId": "8d157bc1-bf4d-414a-9f80-00d412c1f0c3"
   },
   "outputs": [
    {
     "name": "stdout",
     "output_type": "stream",
     "text": [
      "The longest word is Supercalifragilisticexpialidocious\n"
     ]
    }
   ],
   "source": [
    "strings = [\"Supercalifragilisticexpialidocious\",\"Honorificabilitudinitatibus\",\"Bababadalgharaghtakamminarronnkonn\"]\n",
    "str_dict = {}\n",
    "\n",
    "for i in strings:\n",
    "  temp = count\n",
    "  count = 0\n",
    "  for x in i:\n",
    "    count += 1\n",
    "  str_dict[i] = count\n",
    "sorted(str_dict)\n",
    "\n",
    "sorted_dict = sorted(str_dict.items(), key=lambda x:x[1], reverse=True)\n",
    "print(\"The longest word is {}\".format(sorted_dict[0][0]))"
   ]
  },
  {
   "cell_type": "markdown",
   "metadata": {
    "id": "fdUtPAOaORWC"
   },
   "source": [
    "**d** Which composer comes first in the dictionary: 'Berlioz', 'Borodin', 'Brian',\n",
    "'Bartok', 'Bellini', 'Buxtehude', 'Bernstein'. Which one comes last?"
   ]
  },
  {
   "cell_type": "code",
   "execution_count": 5,
   "metadata": {
    "colab": {
     "base_uri": "https://localhost:8080/"
    },
    "id": "g2fRmRgAOQj_",
    "outputId": "e446278e-b4e2-4c33-e4e5-1420f89f1ce4"
   },
   "outputs": [
    {
     "name": "stdout",
     "output_type": "stream",
     "text": [
      "First in the dictionary: Bartok\n",
      "Last in the dictionary: Buxtehude\n"
     ]
    }
   ],
   "source": [
    "composers = ['Berlioz', 'Borodin', 'Brian', 'Bartok', 'Bellini', 'Buxtehude', 'Bernstein']\n",
    "\n",
    "composers.sort()\n",
    "print(\"First in the dictionary: {}\".format(composers[0]))\n",
    "print(\"Last in the dictionary: {}\".format(composers[-1]))"
   ]
  },
  {
   "cell_type": "markdown",
   "metadata": {
    "id": "laTmt1b3OyDM"
   },
   "source": [
    "**Question 3**"
   ]
  },
  {
   "cell_type": "code",
   "execution_count": 6,
   "metadata": {
    "colab": {
     "base_uri": "https://localhost:8080/"
    },
    "id": "63mDb37iOz3h",
    "outputId": "0c05cd53-8cec-44f8-a897-11e34fdaac6e"
   },
   "outputs": [
    {
     "name": "stdout",
     "output_type": "stream",
     "text": [
      "1.7320508075688772\n",
      "2.9047375096555625\n"
     ]
    }
   ],
   "source": [
    "from math import sqrt\n",
    "def triangleArea(a,b,c):\n",
    "  s = (a+b+c)/2\n",
    "  area_of_triangle = sqrt(s*((s-a)*(s-b)*(s-c)))\n",
    "  return area_of_triangle\n",
    "\n",
    "print(triangleArea(2,2,2))\n",
    "print(triangleArea(2,3,4))"
   ]
  },
  {
   "cell_type": "markdown",
   "metadata": {
    "id": "Jo-xRNhBQJHa"
   },
   "source": [
    "**Question 4**"
   ]
  },
  {
   "cell_type": "code",
   "execution_count": 7,
   "metadata": {
    "colab": {
     "base_uri": "https://localhost:8080/"
    },
    "id": "7KaibOPjQKhP",
    "outputId": "c112888a-24b7-4f94-aff6-db5aa1b3e9ff"
   },
   "outputs": [
    {
     "name": "stdout",
     "output_type": "stream",
     "text": [
      "The Even elements are: 42 56 32\n",
      "The Odd elements are: 25 47\n"
     ]
    }
   ],
   "source": [
    "from prompt_toolkit.application.application import E\n",
    "numbers = [25,47,42,56,32]\n",
    "odd = []\n",
    "even = []\n",
    "\n",
    "for i in numbers:\n",
    "  if i%2 == 0:\n",
    "    even.append(i)\n",
    "  else:\n",
    "    odd.append(i)\n",
    "\n",
    "print(\"The Even elements are: {}\".format(\" \".join(str(i) for i in even)))\n",
    "print(\"The Odd elements are: {}\".format(\" \".join(str(i) for i in odd)))"
   ]
  },
  {
   "cell_type": "markdown",
   "metadata": {
    "id": "fVxjBtc-T51D"
   },
   "source": [
    "**Question 5**"
   ]
  },
  {
   "cell_type": "markdown",
   "metadata": {
    "id": "kjKlwfWBUGoP"
   },
   "source": [
    "**a** Write a function inside(x,y,x1,y1,x2,y2) that returns True or False depending on whether the point (x,y) lies in the rectangle with lower left corner (x1,y1) and upper right corner (x2,y2)."
   ]
  },
  {
   "cell_type": "code",
   "execution_count": 8,
   "metadata": {
    "colab": {
     "base_uri": "https://localhost:8080/"
    },
    "id": "aWd_pReiT73t",
    "outputId": "c482bbd8-6e62-4342-80d1-3bbc0c95010d"
   },
   "outputs": [
    {
     "name": "stdout",
     "output_type": "stream",
     "text": [
      "True\n",
      "False\n"
     ]
    }
   ],
   "source": [
    "def inside(x,y,x1,y1,x2,y2):\n",
    "\n",
    "  if ((x > x1) and (x < x2)) and ((y > y1) and (y < y2)):\n",
    "    return True\n",
    "  else:\n",
    "    return False\n",
    "\n",
    "print(inside(1,1,0,0,2,3))\n",
    "print(inside(-1,-1,0,0,2,3))"
   ]
  },
  {
   "cell_type": "markdown",
   "metadata": {
    "id": "zf1IgaEXVP4E"
   },
   "source": [
    "**b** Use function inside() from part a. to write an expression that tests whether\n",
    "the point (1,1) lies in both of the following rectangles: one with lower left\n",
    "corner (0.3, 0.5) and upper right corner (1.1, 0.7) and the other with lower\n",
    "left corner (0.5, 0.2) and upper right corner (1.1, 2). "
   ]
  },
  {
   "cell_type": "code",
   "execution_count": 9,
   "metadata": {
    "colab": {
     "base_uri": "https://localhost:8080/"
    },
    "id": "9e9Z73WLVQ_S",
    "outputId": "92951a6e-2dba-4f68-b6c7-8b1edff42914"
   },
   "outputs": [
    {
     "name": "stdout",
     "output_type": "stream",
     "text": [
      "False\n",
      "True\n"
     ]
    }
   ],
   "source": [
    "print(inside(1,1,0.3,0.5,1.1,0.7))\n",
    "print(inside(1,1,0.5,0.2,1.1,2))"
   ]
  },
  {
   "cell_type": "markdown",
   "metadata": {
    "id": "aRJ6RDfpWFWh"
   },
   "source": [
    "**Question 6**"
   ]
  },
  {
   "cell_type": "code",
   "execution_count": 10,
   "metadata": {
    "colab": {
     "base_uri": "https://localhost:8080/",
     "height": 35
    },
    "id": "889PaMzZWHWi",
    "outputId": "1675704a-8aa6-476a-bd94-0548086fca93"
   },
   "outputs": [
    {
     "data": {
      "text/plain": [
       "'Enterway'"
      ]
     },
     "execution_count": 10,
     "metadata": {},
     "output_type": "execute_result"
    }
   ],
   "source": [
    "vowels = ['a','e','i','o','u','A','E','I','O','U']\n",
    "\n",
    "def pig(word):\n",
    "\n",
    "  if word[0] in vowels:\n",
    "    return word + \"way\"\n",
    "  else:\n",
    "    new_word = word[1:-1] + word[0] + \"ay\"\n",
    "    return new_word\n",
    "\n",
    "pig('happy')\n",
    "pig('Enter')"
   ]
  },
  {
   "cell_type": "markdown",
   "metadata": {
    "id": "cHK3-_qhw9jl"
   },
   "source": [
    "**Question 7**"
   ]
  },
  {
   "cell_type": "code",
   "execution_count": 11,
   "metadata": {
    "id": "vkqsAbx2xD0_"
   },
   "outputs": [],
   "source": [
    "def bldcount(filename):\n",
    "\n",
    "  f = open(filename, \"r\")\n",
    "  for x in f:\n",
    "    print(x)\n",
    "\n",
    "  blood_count_list = x.split(\" \")\n",
    "  print(blood_count_list)\n",
    "\n",
    "  count_dict = {'A':0, 'B':0, 'AB':0, 'O':0, 'OO':0}\n",
    "  for i in blood_count_list:\n",
    "    if i == 'A':\n",
    "      count_dict['A'] += 1\n",
    "    elif i == 'B':\n",
    "      count_dict['B'] += 1\n",
    "    elif i == 'AB':\n",
    "      count_dict['AB'] += 1\n",
    "    elif i == 'O':\n",
    "      count_dict['O'] += 1\n",
    "    elif i == 'OO':\n",
    "      count_dict['OO'] += 1\n",
    "\n",
    "  blood_types = ['A','B','AB','O','OO']\n",
    "  for i in blood_types:\n",
    "    print(\"Number of patients having blood group {}: {}\".format(i,count_dict[i]))\n"
   ]
  },
  {
   "cell_type": "code",
   "execution_count": 12,
   "metadata": {
    "colab": {
     "base_uri": "https://localhost:8080/"
    },
    "id": "JoVWO5xwxhOf",
    "outputId": "bad5f5ea-126e-4cf4-b08e-d6f774c9771d"
   },
   "outputs": [
    {
     "name": "stdout",
     "output_type": "stream",
     "text": [
      "AB AB B O A A AB O AB A O O A A A O O O AB O A A A A A AB AB A AB O AB O A O O O AB O AB AB AB A A O \n",
      "\n",
      "['AB', 'AB', 'B', 'O', 'A', 'A', 'AB', 'O', 'AB', 'A', 'O', 'O', 'A', 'A', 'A', 'O', 'O', 'O', 'AB', 'O', 'A', 'A', 'A', 'A', 'A', 'AB', 'AB', 'A', 'AB', 'O', 'AB', 'O', 'A', 'O', 'O', 'O', 'AB', 'O', 'AB', 'AB', 'AB', 'A', 'A', 'O', '\\n']\n",
      "Number of patients having blood group A: 15\n",
      "Number of patients having blood group B: 1\n",
      "Number of patients having blood group AB: 13\n",
      "Number of patients having blood group O: 15\n",
      "Number of patients having blood group OO: 0\n"
     ]
    }
   ],
   "source": [
    "bldcount('bloodtype1.txt')"
   ]
  },
  {
   "cell_type": "markdown",
   "metadata": {
    "id": "tFIPmlbA3z3U"
   },
   "source": [
    "**Question 8**"
   ]
  },
  {
   "cell_type": "code",
   "execution_count": 13,
   "metadata": {
    "id": "CLjVGMuS33WI"
   },
   "outputs": [],
   "source": [
    "def curconv(currency, amount):\n",
    "\n",
    "  f = open('currencies.txt', \"r\")\n",
    "  currency_rate_dict = {}\n",
    "  for x in f:\n",
    "    line_splitted = x.split()\n",
    "    currency_rate_dict[line_splitted[0]] = line_splitted[1]\n",
    "\n",
    "  return \"USD \" + str(float(currency_rate_dict[currency]) * amount)"
   ]
  },
  {
   "cell_type": "code",
   "execution_count": 14,
   "metadata": {
    "colab": {
     "base_uri": "https://localhost:8080/"
    },
    "id": "dpiUVF4s4GAw",
    "outputId": "3d8fdb5d-a7ed-4094-92d3-0285b4ceadcd"
   },
   "outputs": [
    {
     "name": "stdout",
     "output_type": "stream",
     "text": [
      "USD 103.45157\n",
      "USD 1.77643\n",
      "USD 15.50176\n"
     ]
    }
   ],
   "source": [
    "print(curconv('AUD',100))\n",
    "print(curconv('INR',100))\n",
    "print(curconv('CNY',100))"
   ]
  },
  {
   "cell_type": "markdown",
   "metadata": {
    "id": "c5PUUeTg7Brl"
   },
   "source": [
    "**Question 9**"
   ]
  },
  {
   "cell_type": "markdown",
   "metadata": {},
   "source": [
    "Trying to add incompatible variables, as in adding 6 + ‘a’"
   ]
  },
  {
   "cell_type": "code",
   "execution_count": 15,
   "metadata": {},
   "outputs": [
    {
     "name": "stdout",
     "output_type": "stream",
     "text": [
      "Exception: unsupported operand type(s) for +: 'int' and 'str' : TypeError\n"
     ]
    }
   ],
   "source": [
    "try:\n",
    "    result = 6 + 'a'\n",
    "    \n",
    "except TypeError as e:\n",
    "    print(\"Exception: {} : {}\".format(e, type(e).__name__))"
   ]
  },
  {
   "cell_type": "markdown",
   "metadata": {},
   "source": [
    "Referring to the 12th item of a list that has only 10 items"
   ]
  },
  {
   "cell_type": "code",
   "execution_count": 16,
   "metadata": {},
   "outputs": [
    {
     "name": "stdout",
     "output_type": "stream",
     "text": [
      "10\n",
      "Exception: list index out of range : IndexError\n"
     ]
    }
   ],
   "source": [
    "try:\n",
    "    names = [\"Aarav\", \"Sanya\", \"Rohan\", \"Anika\", \"Vishal\", \"Neha\", \"Arjun\", \"Meera\", \"Aditi\", \"Rajesh\"]\n",
    "    print(len(names))\n",
    "    n = names[11]\n",
    "except IndexError as e:\n",
    "    print(\"Exception: {} : {}\".format(e, type(e).__name__))"
   ]
  },
  {
   "cell_type": "markdown",
   "metadata": {},
   "source": [
    "Using a value that is out of range for a function’s input, such as calling math.sqrt(-1.0)"
   ]
  },
  {
   "cell_type": "code",
   "execution_count": 17,
   "metadata": {},
   "outputs": [
    {
     "name": "stdout",
     "output_type": "stream",
     "text": [
      "Exception: math domain error : ValueError\n"
     ]
    }
   ],
   "source": [
    "try:\n",
    "    result = sqrt(-1.0)\n",
    "except ValueError as e:\n",
    "    print(\"Exception: {} : {}\".format(e, type(e).__name__))"
   ]
  },
  {
   "cell_type": "markdown",
   "metadata": {},
   "source": [
    "Using an undeclared variable, such as print(x) when x has not been defined "
   ]
  },
  {
   "cell_type": "code",
   "execution_count": 18,
   "metadata": {},
   "outputs": [
    {
     "name": "stdout",
     "output_type": "stream",
     "text": [
      "Exception: name 'xyz' is not defined : NameError\n"
     ]
    }
   ],
   "source": [
    "try:\n",
    "    print(xyz)\n",
    "except NameError as e:\n",
    "    print(\"Exception: {} : {}\".format(e, type(e).__name__))"
   ]
  },
  {
   "cell_type": "markdown",
   "metadata": {},
   "source": [
    "Trying to open a file that does not exist, such as mistyping the file name or looking in the wrong directory. "
   ]
  },
  {
   "cell_type": "code",
   "execution_count": 19,
   "metadata": {},
   "outputs": [
    {
     "name": "stdout",
     "output_type": "stream",
     "text": [
      "Exception: [Errno 2] No such file or directory: 'currenciessss.txt' : FileNotFoundError\n"
     ]
    }
   ],
   "source": [
    "try:\n",
    "    f = open('currenciessss.txt', \"r\")\n",
    "except FileNotFoundError as e:\n",
    "    print(\"Exception: {} : {}\".format(e, type(e).__name__))"
   ]
  },
  {
   "cell_type": "markdown",
   "metadata": {
    "id": "gJvu9j34869E"
   },
   "source": [
    "**Question 10**"
   ]
  },
  {
   "cell_type": "code",
   "execution_count": 20,
   "metadata": {
    "id": "UWBqPbd489Vb"
   },
   "outputs": [],
   "source": [
    "def frequencies(string):\n",
    "\n",
    "  letters = 'abcdefghijklmnopqrstuvwxyz'\n",
    "  #print(len(letters))\n",
    "  no_of_letters = [0]*len(letters)\n",
    "  #print(no_of_letters)\n",
    "  for i in string:\n",
    "    if i in letters:\n",
    "      index = letters.index(i)\n",
    "      no_of_letters[index] += 1\n",
    "  return no_of_letters"
   ]
  },
  {
   "cell_type": "code",
   "execution_count": 21,
   "metadata": {
    "colab": {
     "base_uri": "https://localhost:8080/"
    },
    "id": "CkNdLMx_96jj",
    "outputId": "67a40cf3-dd5c-40b9-e0e8-4b926ec713ad"
   },
   "outputs": [
    {
     "name": "stdout",
     "output_type": "stream",
     "text": [
      "[1, 1, 1, 3, 5, 1, 1, 2, 1, 0, 1, 0, 1, 2, 4, 0, 1, 2, 0, 3, 1, 0, 1, 1, 0, 0]\n",
      "[1, 0, 0, 0, 1, 0, 0, 0, 0, 0, 0, 1, 0, 0, 0, 2, 0, 0, 0, 0, 0, 0, 0, 0, 0, 0]\n"
     ]
    }
   ],
   "source": [
    "print(frequencies('The quick red fox got bored and went home.'.lower()))\n",
    "print(frequencies('apple'.lower()))"
   ]
  }
 ],
 "metadata": {
  "colab": {
   "provenance": []
  },
  "kernelspec": {
   "display_name": "Python 3 (ipykernel)",
   "language": "python",
   "name": "python3"
  },
  "language_info": {
   "codemirror_mode": {
    "name": "ipython",
    "version": 3
   },
   "file_extension": ".py",
   "mimetype": "text/x-python",
   "name": "python",
   "nbconvert_exporter": "python",
   "pygments_lexer": "ipython3",
   "version": "3.9.12"
  }
 },
 "nbformat": 4,
 "nbformat_minor": 1
}
